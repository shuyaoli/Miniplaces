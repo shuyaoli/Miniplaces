{
 "cells": [
  {
   "cell_type": "markdown",
   "metadata": {},
   "source": [
    "This notebook is used to get RGB channels' mean and std.\n",
    "These values are hardcoded in \"main.ipynb\" notebook."
   ]
  },
  {
   "cell_type": "code",
   "execution_count": 12,
   "metadata": {},
   "outputs": [],
   "source": [
    "import pandas as pd\n",
    "import os\n",
    "import numpy as np\n",
    "from skimage import io"
   ]
  },
  {
   "cell_type": "code",
   "execution_count": 17,
   "metadata": {},
   "outputs": [],
   "source": [
    "NUM_CLASS = 10"
   ]
  },
  {
   "cell_type": "code",
   "execution_count": 33,
   "metadata": {},
   "outputs": [],
   "source": [
    "root_dir = 'images/'\n",
    "all_data = pd.read_csv('data/train.txt', delimiter=' ', header=None)\n",
    "process_data = all_data.loc[all_data.iloc[:, 1].isin(range(0, NUM_CLASS))]\n",
    "\n",
    "img_names = \\\n",
    "   map(lambda idx: os.path.join(root_dir, process_data.iloc[idx, 0]), range(len(process_data)))\n",
    "\n",
    "imgs = np.zeros((128 * 128, 3, len(process_data)))\n",
    "\n",
    "for idx, img_name in enumerate(img_names):\n",
    "    img = io.imread(img_name) / 255\n",
    "    imgs[:, :, idx] = img.reshape(-1, 3)"
   ]
  },
  {
   "cell_type": "code",
   "execution_count": 39,
   "metadata": {},
   "outputs": [],
   "source": [
    "imgs = imgs.transpose(0,2,1).reshape(-1, 3)"
   ]
  },
  {
   "cell_type": "code",
   "execution_count": 40,
   "metadata": {},
   "outputs": [
    {
     "data": {
      "text/plain": [
       "array([0.43404748, 0.42429799, 0.40133824])"
      ]
     },
     "execution_count": 40,
     "metadata": {},
     "output_type": "execute_result"
    }
   ],
   "source": [
    "np.mean(imgs, axis = 0)"
   ]
  },
  {
   "cell_type": "code",
   "execution_count": 41,
   "metadata": {},
   "outputs": [
    {
     "data": {
      "text/plain": [
       "array([0.26775341, 0.26286543, 0.28041377])"
      ]
     },
     "execution_count": 41,
     "metadata": {},
     "output_type": "execute_result"
    }
   ],
   "source": [
    "np.std(imgs, axis = 0)"
   ]
  }
 ],
 "metadata": {
  "kernelspec": {
   "display_name": "Python 3",
   "language": "python",
   "name": "python3"
  },
  "language_info": {
   "codemirror_mode": {
    "name": "ipython",
    "version": 3
   },
   "file_extension": ".py",
   "mimetype": "text/x-python",
   "name": "python",
   "nbconvert_exporter": "python",
   "pygments_lexer": "ipython3",
   "version": "3.6.4"
  }
 },
 "nbformat": 4,
 "nbformat_minor": 2
}
